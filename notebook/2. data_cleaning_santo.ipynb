{
 "cells": [
  {
   "cell_type": "markdown",
   "id": "0cc3bef2",
   "metadata": {},
   "source": [
    "# 2. Nettoyage du DataFrame/DataFrame cleaning"
   ]
  },
  {
   "cell_type": "markdown",
   "id": "663ebd89",
   "metadata": {},
   "source": [
    "# Introduction\n",
    "\n",
    "Ce fichier exécute une étape essentielle du pipeline de science des données : le nettoyage du DataFrame. Cette tâche permet de garantir la qualité, la cohérence et l'exploitabilité des données avant d'entamer toute visualisation ou modélisation prédictive.  \n",
    "This file performs a key step in the data science pipeline: cleaning the DataFrame. This task ensures the quality, consistency, and usability of the data before any visualization or predictive modeling takes place.  \n",
    "\n",
    "Voici les étapes de nettoyage traitées dans ce script :  \n",
    "The cleaning steps handled in this script include:  \n",
    "\n",
    "1. Importation des bibliothèques nécessaires./Import of necessary libraries.  \n",
    "2. Chargement et renommage des colonnes./Loading and renaming columns.\n",
    "3. Fusion avec un autre fichier CSV./Merging with another CSV file.\n",
    "4. Suppression des doublons et des colonnes inutiles./Removing duplicates and unnecessary columns.  \n",
    "5. Nettoyage des chaînes de caractères./Cleaning string columns.  \n",
    "6. Gestion des valeurs manquantes./Handling missing values.  \n",
    "7. Conversion des variables binaires./Converting binary variables.  \n",
    "8. Encodage ordinal et catégoriel./Ordinal and categorical encoding.  \n",
    "9. Encodage One-Hot./One-hot encoding.  \n",
    "10. Filtrage des prix extrêmes./Filtering out extreme prices.  \n",
    "11. Sauvegarde du DataFrame nettoyé./Saving the cleaned DataFrame.  "
   ]
  },
  {
   "cell_type": "markdown",
   "id": "df88ba31",
   "metadata": {},
   "source": [
    "## 1. 1. Importation des bibliothèques / Importing librarie  "
   ]
  },
  {
   "cell_type": "markdown",
   "id": "83a89144",
   "metadata": {},
   "source": [
    "Cette étape consiste à importer toutes les bibliothèques nécessaires au nettoyage et au traitement des données.  \n",
    "This step involves importing all the libraries required for data cleaning and processing.  "
   ]
  },
  {
   "cell_type": "code",
   "execution_count": null,
   "id": "8b4883f5",
   "metadata": {},
   "outputs": [],
   "source": [
    "import pandas as pd # Importation de la bibliothèque Pandas/Importing the Pandas library\n",
    "import os # Importation de la bibliothèque OS/Importing the OS library\n",
    "from sklearn.preprocessing import LabelEncoder # Importation de LabelEncoder de sklearn/Importing the LabelEncoder from sklearn\n",
    "import logging  # Pour enregistrer les erreurs et informations/For logging errors and information"
   ]
  },
  {
   "cell_type": "markdown",
   "id": "70311003",
   "metadata": {},
   "source": [
    "- __*import pandas as pd :*__ \n",
    "    - Importe la bibliothèque Pandas, utilisée pour manipuler des DataFrames.  \n",
    "      Imports the Pandas library, used to manipulate DataFrames.  \n",
    "- __*import os :*__  \n",
    "    - Importe la bibliothèque standard OS pour interagir avec le système de fichiers.  \n",
    "      Imports the standard OS library to interact with the file system.  \n",
    "- __*from sklearn.preprocessing import LabelEncoder :*__  \n",
    "    - Importe un outil de prétraitement pour transformer des labels en valeurs numériques.  \n",
    "      Imports a preprocessing tool to convert labels into numerical values.  \n",
    "- __*import logging :*__  \n",
    "    - Permet de gérer les messages d'information, de debug et d'erreurs.  \n",
    "      Enables handling of informational, debug, and error messages.  "
   ]
  },
  {
   "cell_type": "markdown",
   "id": "ce85e058",
   "metadata": {},
   "source": [
    "## 1.2 Classe utilitaire DataManager / Utility class DataManager"
   ]
  },
  {
   "cell_type": "markdown",
   "id": "6bcb8a64",
   "metadata": {},
   "source": [
    "Cette classe statique contient une méthode pour fusionner dynamiquement des colonnes depuis un autre fichier CSV.  \n",
    "This static class contains a method to dynamically merge columns from another CSV file.  "
   ]
  },
  {
   "cell_type": "code",
   "execution_count": null,
   "id": "22df3c46",
   "metadata": {},
   "outputs": [],
   "source": [
    "class DataManager: # Cette classe est utilisée pour gérer les données/This class is used to manage data\n",
    "    @staticmethod # Méthode statique pour charger les données/Static method to load data\n",
    "    def merge_columnsFrom(main_df, path_to_csv, id_col, from_id_col, from_columns_to_merge, verbose=0): # Cette méthode fusionne les colonnes d'un autre fichier CSV dans le DataFrame principal/This method merges columns from another CSV file into the main DataFrame\n",
    "        \"\"\"Load columns from other dataset.\"\"\"\n",
    "        if verbose: # Afficher les colonnes à fusionner/Display columns to merge\n",
    "            print(f\"DataManager::merge_columnsFrom -> Columns to merge : {from_columns_to_merge}\") # Afficher les colonnes à fusionner/Display columns to merge\n",
    "            print(f\"DataManager::merge_columnsFrom -> Columns before merge : {main_df.columns.to_list()}\") # Afficher les colonnes avant la fusion/Display columns before merge\n",
    "\n",
    "        main_df[id_col] = pd.to_numeric(main_df[id_col], errors='coerce').astype('Int64') # Convertir la colonne id en numérique/Convert the id column to numeric\n",
    "\n",
    "        if not os.path.exists(path_to_csv): # Vérifier si le fichier existe/Check if the file exists\n",
    "            logging.error(f\"File not found: {path_to_csv}\") # Enregistrer l'erreur si le fichier n'existe pas/Log the error if the file does not exist\n",
    "            return None # Retourner None si le fichier n'existe pas/Return None if the file does not exist\n",
    "\n",
    "        from_df = pd.read_csv(path_to_csv) # Charger le fichier CSV/Load the CSV file\n",
    "\n",
    "        if from_id_col not in from_df.columns: # Vérifier si la colonne id existe dans le fichier source/Check if the id column exists in the source file\n",
    "            logging.error(f\"Column '{from_id_col}' not found in source file.\") # Enregistrer l'erreur si la colonne n'existe pas/Log the error if the column does not exist\n",
    "            return None # Retourner None si la colonne n'existe pas/Return None if the column does not exist\n",
    "\n",
    "        from_df = from_df[[from_id_col] + from_columns_to_merge] # Sélectionner les colonnes à fusionner/Select the columns to merge\n",
    "        from_df = from_df.rename(columns={from_id_col: 'from_id'}) # Renommer la colonne id/ Rename the id column\n",
    "        from_df = from_df.drop_duplicates(subset=['from_id'], keep='first') # Supprimer les doublons/Remove duplicates\n",
    "\n",
    "        main_df = main_df.merge(from_df, left_on=id_col, right_on='from_id', how='left') # Fusionner les DataFrames/ Merge the DataFrames\n",
    "        main_df = main_df.drop(columns=['from_id']) # Supprimer la colonne id fusionnée/Remove the merged id column\n",
    "\n",
    "        if verbose: # Afficher les colonnes après la fusion/Display columns after merge\n",
    "            print(f\"DataManager::merge_columnsFrom -> columns merged successfully: {main_df.columns.to_list()}\") # Afficher les colonnes fusionnées/Display merged columns\n",
    "        return main_df # Retourner le DataFrame fusionné/Return the merged DataFrame"
   ]
  },
  {
   "cell_type": "markdown",
   "id": "a9fc4551",
   "metadata": {},
   "source": [
    "- __*class DataManager: :*__  \n",
    "    - Définition d’une classe utilitaire pour gérer des opérations sur les données.  \n",
    "      Defines a utility class to handle data operations.  \n",
    "\n",
    "- __*@staticmethod :*__  \n",
    "    - Indique que la méthode ne dépend pas de l'instance de la classe.  \n",
    "      Indicates that the method doesn’t depend on a class instance.  \n",
    "\n",
    "- __*merge_columnsFrom(...) :*__  \n",
    "    - Méthode pour fusionner des colonnes à partir d’un autre fichier CSV.  \n",
    "      Method to merge columns from another CSV file.  \n",
    "\n",
    "- __*main_df[id_col] = pd.to_numeric(...) :*__  \n",
    "    - Conversion de la colonne d’identifiant en entier, en gérant les erreurs.  \n",
    "      Converts the identifier column to integers, handling errors.  \n",
    "\n",
    "- __*if not os.path.exists(path_to_csv) :*__  \n",
    "    - Vérifie si le fichier à fusionner existe.  \n",
    "      Checks if the file to merge exists.  \n",
    "\n",
    "- __*from_df = pd.read_csv(path_to_csv) :*__  \n",
    "    - Charge le fichier CSV contenant les colonnes à fusionner.  \n",
    "      Loads the CSV file containing the columns to merge.  \n",
    "      \n",
    "if from_id_col not in from_df.columns : vérifie que la colonne de correspondance existe.\n",
    "Verifies that the matching column exists.\n",
    "from_df = from_df[[from_id_col] + from_columns_to_merge] : sélectionne uniquement les colonnes nécessaires.\n",
    "Selects only the required columns.\n",
    "from_df = from_df.rename(...) : renomme la colonne d’ID source pour faciliter la fusion.\n",
    "Renames the source ID column to ease the merge.\n",
    "from_df = from_df.drop_duplicates(...) : garde une seule ligne par identifiant pour éviter les duplications.\n",
    "Keeps only one row per identifier to avoid duplication.\n",
    "main_df = main_df.merge(...) : fusionne le DataFrame principal avec celui chargé, à gauche.\n",
    "Merges the main DataFrame with the loaded one using a left join.\n",
    "main_df = main_df.drop(columns=['from_id']) : supprime la colonne temporaire utilisée pour la jointure.\n",
    "Deletes the temporary column used for joining.\n",
    "if verbose: ... : affiche des logs détaillés si verbose est activé.\n",
    "Prints detailed logs if verbose is enabled."
   ]
  }
 ],
 "metadata": {
  "kernelspec": {
   "display_name": ".venv",
   "language": "python",
   "name": "python3"
  },
  "language_info": {
   "name": "python",
   "version": "3.13.1"
  }
 },
 "nbformat": 4,
 "nbformat_minor": 5
}
