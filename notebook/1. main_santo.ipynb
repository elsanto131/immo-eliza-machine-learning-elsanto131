{
 "cells": [
  {
   "cell_type": "markdown",
   "id": "b8870d2d",
   "metadata": {},
   "source": [
    "# 1. Fichier Main (Immo Eliza)/Main file (Immo Eliza)"
   ]
  },
  {
   "cell_type": "markdown",
   "id": "bca7aec7",
   "metadata": {},
   "source": [
    "# Introduction\n",
    "Le fichier `main.py` est le script principal qui orchestre l'exécution de notre projet de prédiction des prix immobiliers. Il gère l'importation des bibliothèques, le nettoyage des données, la visualisation des données (avec graphiques), l'entraînement du modèle, l'affichage des résultats du modèle, et enfin, la sauvegarde du modèle entraîné.  \n",
    "The `main.py` file is the main script that orchestrates the execution of our real estate price prediction project. It handles the import of libraries, data cleaning, data visualization (with charts), model training, model result display, and finally, saving the trained model.\n",
    "\n",
    "\n",
    "Ce fichier suit une structure claire :/This file follows a clear structure :\n",
    "1. L'importation des bibliothèques nécessaires./Import of necessary libraries.\n",
    "2. La configuration du logging./Logging configuration.\n",
    "3. La définition de la fonction main()./Definition of the main() function.  \n",
    "    3. 1. Le nettoyage des données./Data cleaning.  \n",
    "    3. 2. La visualisation des données (avec des graphiques)./Data visualization (with charts).  \n",
    "    3. 3. L'entraînement d'un modèle de prédiction (ici un modèle Random Forest)./Training a prediction model (here, a Random Forest model).  \n",
    "    3. 4. L'affichage des résultats du modèle./Displaying the model results.  \n",
    "    3. 5. La sauvegarde du modèle entraîné./Saving the trained model.  \n",
    "    3. 6. Fin du script/End of the script  \n",
    "    3. 7. Point d'entrée du script avec if __name__ == \"__main__\":/Entry point of the script with if __name__ == '__main__  "
   ]
  },
  {
   "cell_type": "markdown",
   "id": "35c9f254",
   "metadata": {},
   "source": [
    "## 1. Importation des bibliothèques/Importing libraries"
   ]
  },
  {
   "cell_type": "markdown",
   "id": "7e2e80d5",
   "metadata": {},
   "source": [
    "Le script commence par l'importation des bibliothèques nécessaires à l'exécution du code. Voici les bibliothèques principales utilisées dans ce fichier :  \n",
    "The script begins with the import of the necessary libraries for the execution of the code. Here are the main libraries used in this file :"
   ]
  },
  {
   "cell_type": "code",
   "execution_count": null,
   "id": "1aaaa82b",
   "metadata": {},
   "outputs": [],
   "source": [
    "import logging\n",
    "from joblib import dump, load\n",
    "from data_cleaning_santo import data_cleaning\n",
    "from model_random_forest_regressor_building_santo import build_random_forest_model"
   ]
  },
  {
   "cell_type": "markdown",
   "id": "56bb5e58",
   "metadata": {},
   "source": [
    "- __*logging*__ :  \n",
    "    - Permet de créer des messages de log (journalisation) qui aideront à suivre l'exécution du script, surtout dans des scripts longs ou complexes.  \n",
    "      Allows you to create log messages (logging) that will help track the execution of the script, especially in long or complex scripts.  \n",
    "\n",
    "- __*joblib*__ :  \n",
    "    - Cette bibliothèque permet de sauvegarder et charger des modèles de machine learning. Si tu veux garder ton modèle pour une utilisation future, tu utiliseras dump pour sauvegarder et load pour charger.  \n",
    "      This library allows you to save and load machine learning models. If you want to keep your model for future use, you will use dump to save and load to load.  \n",
    "\n",
    "- __*data_cleaning_santo*__ :  \n",
    "    - Contient la fonction data_cleaning utilisée pour nettoyer les données avant l'entraînement du modèle.  \n",
    "      Contains the data_cleaning function used to clean the data before model training.  \n",
    "\n",
    "- __*data_visualization_santo*__ :  \n",
    "    - Contient la fonction create_visualizations pour créer des graphiques à partir des données nettoyées.  \n",
    "      Contains the create_visualizations function to create charts from cleaned data.  \n",
    "\n",
    "- __*model_random_forest_regressor_building_santo*__ :  \n",
    "    - Contient la fonction build_random_forest_model pour entraîner un modèle Random Forest sur les données.  \n",
    "      Contains the build_random_forest_model function to train a Random Forest model on the data.  \n",
    "\n",
    "- __*model_gradient_boosting_regressor_building_santo*__ :  \n",
    "    - Contient la fonction build_gradient_boosting_model pour entraîner un modèle de gradient boosting.  \n",
    "      Contains the build_gradient_boosting_model function to train a gradient boosting model.  "
   ]
  },
  {
   "cell_type": "markdown",
   "id": "af2c49c9",
   "metadata": {},
   "source": [
    "## 2. Configuration du logging/Logging configuration"
   ]
  },
  {
   "cell_type": "markdown",
   "id": "10b9eea8",
   "metadata": {},
   "source": [
    "Le module logging est utilisé pour configurer un système de journalisation (logging). Le module `logging` est utilisé pour configurer un système de journalisation (logging). Il permet de suivre le déroulement du script et d'afficher des messages d'information, de débogage, ou d'erreur. Dans ce script, nous configurons le logging pour qu'il affiche des messages de niveau `DEBUG` (c'est-à-dire tous les messages, y compris ceux à des fins de débogage).  \n",
    "The logging module is used to configure a logging system. It allows you to track the script's progress and display informational, debugging, or error messages. In this script, we configure the logging to display DEBUG level messages (that is, all messages, including those for debugging purposes)."
   ]
  },
  {
   "cell_type": "code",
   "execution_count": null,
   "id": "23190cfb",
   "metadata": {},
   "outputs": [],
   "source": [
    "logging.basicConfig(level=logging.DEBUG, format='%(asctime)s - %(levelname)s - %(message)s')"
   ]
  },
  {
   "cell_type": "markdown",
   "id": "d1335ebb",
   "metadata": {},
   "source": [
    "- __*level=logging.DEBUG*__ :\n",
    "    - Cela permet d'afficher tous les messages de niveau DEBUG et plus haut. Le niveau DEBUG est le plus bas, donc tous les messages seront affichés.  \n",
    "      This allows all messages of level DEBUG and above to be displayed. The DEBUG level is the lowest, so all messages will be shown.  \n",
    "\n",
    "- __*format='%(asctime)s - %(levelname)s - %(message)s'*__:\n",
    "    - Cela définit le format d'affichage des messages, incluant l'heure de l'événement, le niveau du message (INFO, DEBUG, etc.), et le message lui-même.   \n",
    "      This allows all messages of level DEBUG and above to be displayed. The DEBUG level is the lowest, so all messages will be shown.  "
   ]
  },
  {
   "cell_type": "markdown",
   "id": "1b3a6d78",
   "metadata": {},
   "source": [
    "## 3. Définition de la fonction `main()`/Definition of the `main()` function"
   ]
  },
  {
   "cell_type": "markdown",
   "id": "24a31d00",
   "metadata": {},
   "source": [
    "La fonction `main()` est le cœur du script. C'est cette fonction qui est appelée pour exécuter toutes les étapes du processus, depuis le nettoyage des données jusqu'à la sauvegarde du modèle. Elle contient également les messages de log qui permettent de suivre l'avancement du script.  \n",
    "The `main()` function is the heart of the script. This function is called to run all the steps of the process, from data cleaning to saving the model. It also contains log messages that help track the progress of the script."
   ]
  },
  {
   "cell_type": "code",
   "execution_count": null,
   "id": "9743c05c",
   "metadata": {},
   "outputs": [],
   "source": [
    "def main():\n",
    "\n",
    "    logging.info(\"Start of the script execution.\") # Message de log indiquant le début de l'exécution du script/Log message indicating the start of the script execution"
   ]
  },
  {
   "cell_type": "markdown",
   "id": "f5143611",
   "metadata": {},
   "source": [
    "- __*logging.info(\"Start of the script execution.\")*__ :  \n",
    "    - Ce message de log indique que l'exécution du script commence. Il sera affiché avec l'heure et le niveau INFO.  \n",
    "      This log message indicates that the script execution is starting. It will be displayed with the timestamp and the INFO level."
   ]
  },
  {
   "cell_type": "markdown",
   "id": "142d1931",
   "metadata": {},
   "source": [
    "## 3. 1. Nettoyage des données/Data Cleaning"
   ]
  },
  {
   "cell_type": "markdown",
   "id": "c5f63874",
   "metadata": {},
   "source": [
    "Dans cette section, nous appelons la fonction `data_cleaning` pour nettoyer les données. Cette fonction prend un fichier CSV en entrée, effectue le nettoyage (suppression des valeurs manquantes, etc.), puis sauvegarde un fichier nettoyé. Les messages de log montrent le début et la fin du nettoyage des données ainsi qu'un aperçu des données après nettoyage.  \n",
    "In this section, we call the `data_cleaning` function to clean the data. This function takes a CSV file as input, performs cleaning (removing missing values, etc.), and then saves a cleaned file. The log messages show the start and end of the data cleaning process, as well as a preview of the cleaned data."
   ]
  },
  {
   "cell_type": "code",
   "execution_count": null,
   "id": "c2414839",
   "metadata": {},
   "outputs": [],
   "source": [
    "logging.info(\"Start of data cleaning...\") # Message de log indiquant le début du nettoyage des données/Log message indicating the start of data cleaning\n",
    "    \n",
    "cleaned_data = data_cleaning( # Fonction de nettoyage des données/Function to clean the data\n",
    "    filepath='data/Kangaroo.csv', # Chemin au fichier CSV à nettoyer/Path to the CSV file to clean\n",
    "    output_path='data/Kangaroo_cleaned.csv' # Chemin au fichier CSV nettoyé/Path to the cleaned CSV file\n",
    ")\n",
    "\n",
    "logging.debug(\"Cleaning data...\") # Message de log indiquant que les données sont en cours de nettoyage/Log message indicating that the data is being cleaned\n",
    "logging.debug(f\"Data sample after cleaning:\\n{cleaned_data.head()}\")  # Message de log affichant un échantillon des données nettoyées/Log message showing a sample of the cleaned data\n",
    "logging.info(\"Data cleaning finished\") # Message de log indiquant que le nettoyage des données est terminé/Log message showing a sample of the cleaned data"
   ]
  },
  {
   "cell_type": "markdown",
   "id": "9eba7330",
   "metadata": {},
   "source": [
    "- __*logging.info(\"Start of data cleaning...\") :*__  \n",
    "    - Affiche un message avant le démarrage du nettoyage des données.  \n",
    "      Displays a message before starting the data cleaning process.\n",
    "\n",
    "- __*data_cleaning(filepath='data/Kangaroo.csv', output_path='data/Kangaroo_cleaned.csv') :*__  \n",
    "    - Appelle la fonction data_cleaning définie dans le module data_cleaning_santo pour nettoyer le fichier CSV d'entrée et sauvegarder le fichier nettoyé dans un nouveau fichier.  \n",
    "      Calls the data_cleaning function defined in the data_cleaning_santo module to clean the input CSV file and save the cleaned data to a new file.\n",
    "\n",
    "- __*logging.info(\"Data cleaning finished\") :*__  \n",
    "    - Affiche un message une fois le nettoyage terminé.  \n",
    "      Displays a message once the cleaning process is completed."
   ]
  },
  {
   "cell_type": "markdown",
   "id": "1c8df821",
   "metadata": {},
   "source": [
    "## 3. 2. Visualisation des données/Data visualization"
   ]
  },
  {
   "cell_type": "markdown",
   "id": "2409b9eb",
   "metadata": {},
   "source": [
    "Après avoir nettoyé les données, il est souvent très utile d'analyser visuellement les données pour mieux comprendre leurs structures, leurs distributions et les relations entre différentes variables. Cette analyse peut nous aider à détecter des tendances, des anomalies (valeurs aberrantes ou outliers), ou des relations linéaires entre des variables.  \n",
    "Dans le fichier main.py, il y a une section prévue pour générer des graphiques à l'aide de la fonction create_visualizations. Cette fonction est censée être importée depuis le module data_visualization_santo. Bien que cette partie du code soit actuellement commentée, voici comment elle fonctionnerait si elle était activée.  \n",
    "After cleaning the data, it's often very useful to visually analyze it to better understand its structure, distributions, and the relationships between different variables. This analysis can help us detect trends, anomalies (outliers), or linear relationships between variables.  \n",
    "In the main.py file, there's a section meant to generate charts using the create_visualizations function. This function is supposed to be imported from the data_visualization_santo module. Although this part of the code is currently commented out, here’s how it would work if it were activated."
   ]
  },
  {
   "cell_type": "code",
   "execution_count": null,
   "id": "1ccc0f02",
   "metadata": {},
   "outputs": [],
   "source": [
    "logging.info(\"Creating the visualizations... \") # Message de log indiquant le début de la création de visualisations/Log message indicating the start of visualization creation\n",
    "\n",
    "create_visualizations(cleaned_data, output_dir=\"figures\") # Fonction de création de visualisations des données nettoyées/Function to create visualizations of the cleaned data\n",
    "\n",
    "logging.info(\"Visualizations created and saved in the 'figures' folder.\") # Message de log indiquant que les visualisations ont été créées et enregistrées/Log message indicating that the visualizations have been created and saved"
   ]
  },
  {
   "cell_type": "markdown",
   "id": "dab29965",
   "metadata": {},
   "source": [
    "- __*logging.info(\"Creating the visualizations... \") :*__  \n",
    "    - Ce message de log indique que la création des visualisations va commencer. Il s'affiche dans la console pour te montrer l'étape actuelle du processus.  \n",
    "      This log message indicates that the creation of visualizations is about to start. It appears in the console to show you the current step in the process.  \n",
    "\n",
    "- __*create_visualizations(cleaned_data, output_dir=\"figures\") : *__  \n",
    "    - Cette ligne appelle la fonction create_visualizations pour créer les visualisations des données nettoyées. Elle prend deux arguments :  \n",
    "      This line calls the create_visualizations function to create visualizations from the cleaned data. It takes two arguments :  \n",
    "\n",
    "        - __*cleaned_data :*__ Les données nettoyées qui ont été générées dans l'étape précédente grâce à la fonction data_cleaning.  \n",
    "          __*cleaned_data :*__ The cleaned data that was generated earlier using the data_cleaning function.  \n",
    "\n",
    "        - __*output_dir=\"figures\" :*__ Le répertoire où les visualisations seront enregistrées. Ici, elles seront stockées dans un dossier appelé \"figures\".  \n",
    "          __*output_dir=\"figures\" :*__ The directory where the visualizations will be saved. Here, they’ll be stored in a folder called \"figures\".  \n",
    "\n",
    "    - Cette fonction est censée générer différents types de graphiques, comme des histogrammes, des boxplots, ou des nuages de points (scatter plots), pour mieux comprendre la distribution des variables.  \n",
    "      This function is expected to generate various types of charts, such as histograms, boxplots, or scatter plots, to better understand the distribution of the variables.  \n",
    "\n",
    "- __*logging.info(\"Visualizations created and saved in the 'figures' folder.\") :*__  \n",
    "    - Une fois que les visualisations ont été créées et enregistrées dans le dossier \"figures\", un message de log indiquera que cette tâche est terminée.  \n",
    "      Once the visualizations are created and saved in the \"figures\" folder, a log message will indicate that this task is complete.  "
   ]
  },
  {
   "cell_type": "markdown",
   "id": "b3d5fb9b",
   "metadata": {},
   "source": [
    "## 3. 3. L'entraînement d'un modèle de prédiction (ici un modèle Random Forest)/Training a prediction model (here, a Random Forest model)"
   ]
  },
  {
   "cell_type": "markdown",
   "id": "2e43ac72",
   "metadata": {},
   "source": [
    "Une fois les données nettoyées et visualisées, nous entraînons un modèle de machine learning pour prédire les prix des maisons. Ici, un modèle **Random Forest** est utilisé.  \n",
    "Once the data has been cleaned and visualized, we train a machine learning model to predict house prices. Here, a Random Forest model is used.  "
   ]
  },
  {
   "cell_type": "code",
   "execution_count": null,
   "id": "2a6f6358",
   "metadata": {},
   "outputs": [],
   "source": [
    "logging.info(\"Training the Random Forest model... \") # Message de log indiquant le début de l'entraînement du modèle Random Forest/Log message indicating the start of training the Random Forest model\n",
    "\n",
    "model_name, model, train_r2, test_r2, train_rmse, test_rmse, train_mae, test_mae = build_random_forest_model(cleaned_data) # Fonction de construction du modèle Random Forest/Function to build the Random Forest model\n",
    "\n",
    "logging.info(f\"{model_name} model trained successfully.\") # Message de log indiquant que le modèle a été entraîné avec succès/Log message indicating that the model has been trained successfully"
   ]
  },
  {
   "cell_type": "markdown",
   "id": "f1443cbd",
   "metadata": {},
   "source": [
    "- __*build_random_forest_model :*__\n",
    "    - Cette fonction construit et entraîne un modèle de type Random Forest. Elle prend les données nettoyées en entrée et retourne plusieurs résultats, y compris le modèle, le R2 (coefficient de détermination), le RMSE (Root Mean Squared Error), et le MAE (Mean Absolute Error).  \n",
    "    This function builds and trains a Random Forest model. It takes the cleaned data as input and returns several results, including the model, R² (coefficient of determination), RMSE (Root Mean Squared Error), and MAE (Mean Absolute Error).  \n",
    "\n",
    "- __*Messages de log :*__  \n",
    "    - __*logging.info(\"Training the Random Forest model...\") :*__  \n",
    "    Indique que l'entraînement du modèle a commencé.  \n",
    "    Indicates that model training has started.  \n",
    "\n",
    "    - __*logging.info(f\"{model_name} model trained successfully.\") :*__  \n",
    "    Affiche un message indiquant que le modèle a été entraîné avec succès.  \n",
    "    Displays a message indicating that the model has been successfully trained.  "
   ]
  },
  {
   "cell_type": "markdown",
   "id": "8b3469db",
   "metadata": {},
   "source": [
    "## 3. 4. L'affichage des résultats du modèle/Displaying the model results"
   ]
  },
  {
   "cell_type": "markdown",
   "id": "6b4e64af",
   "metadata": {},
   "source": [
    "Une fois le modèle entraîné, les résultats sont affichés, incluant des métriques telles que le R2, le RMSE, et le MAE pour les ensembles d'entraînement et de test.  \n",
    "Once the model is trained, the results are displayed, including metrics such as R², RMSE, and MAE for both the training and test sets.  "
   ]
  },
  {
   "cell_type": "code",
   "execution_count": null,
   "id": "009058cc",
   "metadata": {},
   "outputs": [],
   "source": [
    "logging.info(\"-\" * 58) #  Message de log indiquant le début de l'affichage des résultats/Log message indicating the start of the results display\n",
    "logging.info(f\"| {'Metric':<15} | {'TRAIN':>10} | {'TEST':>10} | {'DIFF':>10} |\") # Message de log affichant l'en-tête du tableau des résultats/Log message showing the header of the results table\n",
    "logging.info(\"-\" * 58) # Message de log indiquant le début de l'affichage des résultats/Log message indicating the start of the results display\n",
    "logging.info(f\"| {'R2 Score':<15} | {train_r2:10.4f} | {test_r2:10.4f} | {(train_r2 - test_r2):10.4f} |\") # Message de log affichant le score R2/Log message showing the R2 score\n",
    "logging.info(f\"| {'R2 Score %':<15} | {(train_r2 * 100):10.2f} | {(test_r2 * 100):10.2f} | {((train_r2 - test_r2) * 100):10.2f} |\") # Message de log affichant le pourcentage du score R2/Log message showing the R2 score percentage\n",
    "logging.info(f\"| {'RMSE':<15} | {train_rmse:10.2f} | {test_rmse:10.2f} | {abs(train_rmse - test_rmse):10.2f} |\") # Message de log affichant le RMSE/Log message showing the RMSE\n",
    "logging.info(f\"| {'MAE':<15} | {train_mae:10.2f} | {test_mae:10.2f} | {abs(train_mae - test_mae):10.2f} |\") # Message de log affichant le MAE/Log message showing the MAE\n",
    "logging.info(\"-\" * 58) # Message de log indiquant la fin de l'affichage des résultats/Log message indicating the end of the results display"
   ]
  },
  {
   "cell_type": "markdown",
   "id": "6b16321f",
   "metadata": {},
   "source": [
    "- __*Affichage des métriques :*__  \n",
    "    - Les résultats sont présentés sous forme de tableau, comparant les performances du modèle sur les ensembles d'entraînement et de test dans le terminal.  \n",
    "    - The results are presented in a table format, comparing the model’s performance on the training and test sets in the terminal.  "
   ]
  },
  {
   "cell_type": "markdown",
   "id": "6a0b4ed5",
   "metadata": {},
   "source": [
    "## 3. 5. La sauvegarde du modèle entraîné/Saving the trained model"
   ]
  },
  {
   "cell_type": "markdown",
   "id": "bb38b2a0",
   "metadata": {},
   "source": [
    "Enfin, une fois le modèle entraîné et évalué, il est sauvegardé pour une utilisation future. Cela permet de ne pas avoir à réentraîner le modèle à chaque exécution.  \n",
    "Finally, once the model has been trained and evaluated, it is saved for future use. This avoids having to retrain the model every time the script is run.  "
   ]
  },
  {
   "cell_type": "code",
   "execution_count": null,
   "id": "4517cd56",
   "metadata": {},
   "outputs": [],
   "source": [
    "logging.info(\"Saving the trained model...\") # Message de log indiquant le début de la sauvegarde du modèle/Log message indicating the start of model saving\n",
    "\n",
    "with open(\"model_random_forest_regressor_building_santo.pkl\", \"wb\") as f: # Ouverture du fichier pour écrire le modèle/Opening the file to write the model\n",
    "    dump(model, 'model_random_forest_regressor_building_santo.pkl', compress='zlib') # Enregistrer le modèle dans un fichier/Save the model to a file\n",
    "\n",
    "logging.info(\"Model saved successfully.\") # Message de log indiquant que le modèle a été enregistré avec succès/Log message indicating that the model has been saved successfully"
   ]
  },
  {
   "cell_type": "markdown",
   "id": "2059a0b9",
   "metadata": {},
   "source": [
    "- __*dump(model, 'model_random_forest_regressor_building_santo.pkl', compress='zlib')*__ :\n",
    "    - Ici, nous utilisons joblib.dump pour sauvegarder le modèle dans un fichier .pkl, compressé avec zlib pour réduire la taille du fichier.  \n",
    "      Here, we use joblib.dump to save the model in a .pkl file, compressed with zlib to reduce the file size.\n",
    "\n",
    "- __*Messages de log :*__  \n",
    "    - __*logging.info(\"Saving the trained model...\") :*__  \n",
    "    Ce message de log indique que le modèle est en cours de sauvegarde.  \n",
    "    This log message indicates that the model is being saved.  \n",
    "\n",
    "    - __*logging.info(\"Model saved successfully.\") :*__  \n",
    "    Ce message de log informe que la sauvegarde du modèle a été réalisée avec succès.  \n",
    "    This log message informs that the model has been successfully saved.  \n",
    " "
   ]
  },
  {
   "cell_type": "markdown",
   "id": "253cfe33",
   "metadata": {},
   "source": [
    "## 3. 6. Fin du script/End of the script"
   ]
  },
  {
   "cell_type": "markdown",
   "id": "29f7c093",
   "metadata": {},
   "source": [
    "Le script se termine après avoir sauvegardé le modèle et affiché les résultats.  \n",
    "The script ends after saving the model and displaying the results."
   ]
  },
  {
   "cell_type": "code",
   "execution_count": null,
   "id": "30c4bbaa",
   "metadata": {},
   "outputs": [],
   "source": [
    "logging.info(\"Script execution finished\") # Message de log indiquant la fin de l'exécution du script/Log message indicating the end of the script execution"
   ]
  },
  {
   "cell_type": "markdown",
   "id": "33f89298",
   "metadata": {},
   "source": [
    "- __*Messages de log :*__  \n",
    "    - __*logging.info(\"Script execution finished\") :*__  \n",
    "    Ce message indique que l'exécution du script a été réalisée avec succès et que toutes les étapes ont été terminées.  \n",
    "    This message indicates that the script execution has been completed successfully and all steps have been finished.  "
   ]
  },
  {
   "cell_type": "markdown",
   "id": "e3a0c7e3",
   "metadata": {},
   "source": [
    "## 3. 7. Point d'entrée du script avec if __name__ == \"__main__\":/Entry point of the script with if __name__ == '__main__':"
   ]
  },
  {
   "cell_type": "markdown",
   "id": "05873ad4",
   "metadata": {},
   "source": [
    "Cette condition permet de s'assurer que le fichier peut être exécuté directement, mais aussi importé dans un autre fichier sans exécuter immédiatement le code.  \n",
    "This condition ensures that the file can be run directly, but also imported into another file without immediately executing the code.  "
   ]
  },
  {
   "cell_type": "code",
   "execution_count": null,
   "id": "c877bfcd",
   "metadata": {},
   "outputs": [],
   "source": [
    "if __name__ == \"__main__\":\n",
    "    main()"
   ]
  },
  {
   "cell_type": "markdown",
   "id": "0cd5cc2b",
   "metadata": {},
   "source": [
    "Ce morceau de code est essentiel pour que ton script Python fonctionne correctement lorsqu'il est exécuté directement. Expliquons-le ligne par ligne.  \n",
    "This piece of code is essential for your Python script to function correctly when run directly. Let’s break it down line by line.  \n",
    "\n",
    "- __*if __name__ == \"__main__\": :*__\n",
    "\n",
    "    -  __name__ est une variable spéciale dans Python. Si tu exécutes un fichier Python directement, la valeur de  __name__ sera définie sur \"__main__\".  \n",
    "      __name__ is a special variable in Python. If you run a Python file directly, the value of __name__ will be set to \"__main__\".  \n",
    "\n",
    "    - Cela signifie que si tu exécutes ce fichier, le script s'exécutera à partir de la fonction main().  \n",
    "      This means that if you run this file, the script will start executing from the main() function.  \n",
    "\n",
    "    - Si ce fichier est importé dans un autre fichier comme un module, le code dans cette condition ne sera pas exécuté, ce qui permet d'éviter d'exécuter le script à chaque importation.  \n",
    "      If this file is imported into another file as a module, the code inside this condition will not be executed, preventing the script from running each time it is imported.  \n",
    "\n",
    "- __*main() :*__  \n",
    "\n",
    "    - Cette ligne appelle la fonction main(), qui est la fonction principale de ton script. C'est ici que toute l'exécution de ton programme commence, en enchaînant les différentes étapes : nettoyage des données, entraînement du modèle, évaluation des résultats, et sauvegarde du modèle.  \n",
    "      This line calls the main() function, which is the main function of your script. This is where the entire execution of your program begins, linking the different steps: data cleaning, model training, result evaluation, and model saving.  \n",
    "\n",
    "    - L'appel à main() lance donc tout le processus que tu as défini dans ta fonction principale.  \n",
    "      Calling main() thus starts the entire process you have defined in your main function.  "
   ]
  }
 ],
 "metadata": {
  "kernelspec": {
   "display_name": ".venv",
   "language": "python",
   "name": "python3"
  },
  "language_info": {
   "codemirror_mode": {
    "name": "ipython",
    "version": 3
   },
   "file_extension": ".py",
   "mimetype": "text/x-python",
   "name": "python",
   "nbconvert_exporter": "python",
   "pygments_lexer": "ipython3",
   "version": "3.13.1"
  }
 },
 "nbformat": 4,
 "nbformat_minor": 5
}
